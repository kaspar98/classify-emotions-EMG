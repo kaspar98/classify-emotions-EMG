{
 "cells": [
  {
   "cell_type": "markdown",
   "metadata": {},
   "source": [
    "This notebook creates our own dataset from the dataset listed here http://benedekkurdi.com/oasis.php.\n",
    "\n",
    "To run the notebook, download the original dataset and place this notebook in the root folder. Also create a folder called \"img\" in the root folder."
   ]
  },
  {
   "cell_type": "code",
   "execution_count": 3,
   "metadata": {},
   "outputs": [],
   "source": [
    "import pandas as pd\n",
    "from shutil import copy\n",
    "import cv2"
   ]
  },
  {
   "cell_type": "code",
   "execution_count": 4,
   "metadata": {},
   "outputs": [],
   "source": [
    "legend = pd.read_csv(\"OASIS_bygender_CORRECTED_092617.csv\")\n",
    "legend[\"avg_valence\"] = (legend[\"Valence_mean_men\"] + legend[\"Valence_mean_women\"]) / 2\n",
    "legend[\"avg_arousal\"] = (legend[\"Arousal_mean_men\"] + legend[\"Arousal_mean_women\"]) / 2"
   ]
  },
  {
   "cell_type": "markdown",
   "metadata": {},
   "source": [
    "# Happy"
   ]
  },
  {
   "cell_type": "code",
   "execution_count": 5,
   "metadata": {},
   "outputs": [],
   "source": [
    "happy = legend[legend[\"avg_valence\"] >= 5.7].copy()\n",
    "happy = happy.drop(happy[(happy[\"Category\"] == 3) & (happy[\"avg_arousal\"] > 4)].index)\n",
    "happy[\"emotion\"] = \"happy\""
   ]
  },
  {
   "cell_type": "markdown",
   "metadata": {},
   "source": [
    "# Neutral"
   ]
  },
  {
   "cell_type": "code",
   "execution_count": 6,
   "metadata": {},
   "outputs": [],
   "source": [
    "neutral = legend[(legend[\"avg_valence\"] >= 3.8) & (legend[\"avg_valence\"] <= 4.3)].copy()\n",
    "neutral[\"emotion\"] = \"neutral\""
   ]
  },
  {
   "cell_type": "markdown",
   "metadata": {},
   "source": [
    "# Sad"
   ]
  },
  {
   "cell_type": "code",
   "execution_count": 7,
   "metadata": {},
   "outputs": [],
   "source": [
    "sad = legend[(legend[\"avg_valence\"] >= 2) & (legend[\"avg_valence\"] <= 3.2)].copy()\n",
    "sad[\"emotion\"] = \"sad\""
   ]
  },
  {
   "cell_type": "code",
   "execution_count": 8,
   "metadata": {},
   "outputs": [],
   "source": [
    "data = pd.concat([happy,neutral,sad], axis=0)"
   ]
  },
  {
   "cell_type": "code",
   "execution_count": 9,
   "metadata": {},
   "outputs": [],
   "source": [
    "data[\"Theme\"] = data[\"Theme\"].str.strip()"
   ]
  },
  {
   "cell_type": "code",
   "execution_count": 10,
   "metadata": {
    "scrolled": true
   },
   "outputs": [
    {
     "data": {
      "text/html": [
       "<div>\n",
       "<style scoped>\n",
       "    .dataframe tbody tr th:only-of-type {\n",
       "        vertical-align: middle;\n",
       "    }\n",
       "\n",
       "    .dataframe tbody tr th {\n",
       "        vertical-align: top;\n",
       "    }\n",
       "\n",
       "    .dataframe thead th {\n",
       "        text-align: right;\n",
       "    }\n",
       "</style>\n",
       "<table border=\"1\" class=\"dataframe\">\n",
       "  <thead>\n",
       "    <tr style=\"text-align: right;\">\n",
       "      <th></th>\n",
       "      <th>Unnamed: 0</th>\n",
       "      <th>Theme</th>\n",
       "      <th>Category</th>\n",
       "      <th>Source</th>\n",
       "      <th>Valence_mean_men</th>\n",
       "      <th>Valence_SD_men</th>\n",
       "      <th>Valence_N_men</th>\n",
       "      <th>Valence_mean_women</th>\n",
       "      <th>Valence_SD_women</th>\n",
       "      <th>Valence_N_women</th>\n",
       "      <th>Arousal_mean_men</th>\n",
       "      <th>Arousal_SD_men</th>\n",
       "      <th>Arousal_N_men</th>\n",
       "      <th>Arousal_mean_women</th>\n",
       "      <th>Arousal_SD_women</th>\n",
       "      <th>Arousal_N_women</th>\n",
       "      <th>avg_valence</th>\n",
       "      <th>avg_arousal</th>\n",
       "      <th>emotion</th>\n",
       "    </tr>\n",
       "  </thead>\n",
       "  <tbody>\n",
       "    <tr>\n",
       "      <th>32</th>\n",
       "      <td>I33</td>\n",
       "      <td>Baby 2</td>\n",
       "      <td>3</td>\n",
       "      <td>Pixabay</td>\n",
       "      <td>5.789474</td>\n",
       "      <td>1.081283</td>\n",
       "      <td>57</td>\n",
       "      <td>6.294118</td>\n",
       "      <td>0.965280</td>\n",
       "      <td>51</td>\n",
       "      <td>3.367347</td>\n",
       "      <td>1.764156</td>\n",
       "      <td>49</td>\n",
       "      <td>3.927273</td>\n",
       "      <td>1.874335</td>\n",
       "      <td>55</td>\n",
       "      <td>6.041796</td>\n",
       "      <td>3.647310</td>\n",
       "      <td>happy</td>\n",
       "    </tr>\n",
       "    <tr>\n",
       "      <th>35</th>\n",
       "      <td>I36</td>\n",
       "      <td>Baby 5</td>\n",
       "      <td>3</td>\n",
       "      <td>Pixabay</td>\n",
       "      <td>5.859649</td>\n",
       "      <td>1.140780</td>\n",
       "      <td>57</td>\n",
       "      <td>6.450980</td>\n",
       "      <td>0.878948</td>\n",
       "      <td>51</td>\n",
       "      <td>3.510204</td>\n",
       "      <td>1.827139</td>\n",
       "      <td>49</td>\n",
       "      <td>3.909091</td>\n",
       "      <td>1.828506</td>\n",
       "      <td>55</td>\n",
       "      <td>6.155315</td>\n",
       "      <td>3.709647</td>\n",
       "      <td>happy</td>\n",
       "    </tr>\n",
       "    <tr>\n",
       "      <th>36</th>\n",
       "      <td>I37</td>\n",
       "      <td>Baby 6</td>\n",
       "      <td>3</td>\n",
       "      <td>Pixabay</td>\n",
       "      <td>5.807018</td>\n",
       "      <td>1.059626</td>\n",
       "      <td>57</td>\n",
       "      <td>6.313725</td>\n",
       "      <td>0.836426</td>\n",
       "      <td>51</td>\n",
       "      <td>3.428571</td>\n",
       "      <td>1.707825</td>\n",
       "      <td>49</td>\n",
       "      <td>3.854545</td>\n",
       "      <td>1.809626</td>\n",
       "      <td>55</td>\n",
       "      <td>6.060372</td>\n",
       "      <td>3.641558</td>\n",
       "      <td>happy</td>\n",
       "    </tr>\n",
       "    <tr>\n",
       "      <th>38</th>\n",
       "      <td>I39</td>\n",
       "      <td>Baby 8</td>\n",
       "      <td>3</td>\n",
       "      <td>Pixabay</td>\n",
       "      <td>5.859649</td>\n",
       "      <td>1.201764</td>\n",
       "      <td>57</td>\n",
       "      <td>6.372549</td>\n",
       "      <td>0.958348</td>\n",
       "      <td>51</td>\n",
       "      <td>3.632653</td>\n",
       "      <td>1.867417</td>\n",
       "      <td>49</td>\n",
       "      <td>4.181818</td>\n",
       "      <td>1.816498</td>\n",
       "      <td>55</td>\n",
       "      <td>6.116099</td>\n",
       "      <td>3.907236</td>\n",
       "      <td>happy</td>\n",
       "    </tr>\n",
       "    <tr>\n",
       "      <th>39</th>\n",
       "      <td>I40</td>\n",
       "      <td>Baby 9</td>\n",
       "      <td>3</td>\n",
       "      <td>Pixabay</td>\n",
       "      <td>5.622222</td>\n",
       "      <td>1.248433</td>\n",
       "      <td>45</td>\n",
       "      <td>6.017857</td>\n",
       "      <td>1.183079</td>\n",
       "      <td>56</td>\n",
       "      <td>3.367347</td>\n",
       "      <td>1.728365</td>\n",
       "      <td>49</td>\n",
       "      <td>3.903846</td>\n",
       "      <td>1.659903</td>\n",
       "      <td>52</td>\n",
       "      <td>5.820040</td>\n",
       "      <td>3.635597</td>\n",
       "      <td>happy</td>\n",
       "    </tr>\n",
       "  </tbody>\n",
       "</table>\n",
       "</div>"
      ],
      "text/plain": [
       "   Unnamed: 0   Theme  Category   Source  Valence_mean_men  Valence_SD_men  \\\n",
       "32        I33  Baby 2         3  Pixabay          5.789474        1.081283   \n",
       "35        I36  Baby 5         3  Pixabay          5.859649        1.140780   \n",
       "36        I37  Baby 6         3  Pixabay          5.807018        1.059626   \n",
       "38        I39  Baby 8         3  Pixabay          5.859649        1.201764   \n",
       "39        I40  Baby 9         3  Pixabay          5.622222        1.248433   \n",
       "\n",
       "    Valence_N_men  Valence_mean_women  Valence_SD_women  Valence_N_women  \\\n",
       "32             57            6.294118          0.965280               51   \n",
       "35             57            6.450980          0.878948               51   \n",
       "36             57            6.313725          0.836426               51   \n",
       "38             57            6.372549          0.958348               51   \n",
       "39             45            6.017857          1.183079               56   \n",
       "\n",
       "    Arousal_mean_men  Arousal_SD_men  Arousal_N_men  Arousal_mean_women  \\\n",
       "32          3.367347        1.764156             49            3.927273   \n",
       "35          3.510204        1.827139             49            3.909091   \n",
       "36          3.428571        1.707825             49            3.854545   \n",
       "38          3.632653        1.867417             49            4.181818   \n",
       "39          3.367347        1.728365             49            3.903846   \n",
       "\n",
       "    Arousal_SD_women  Arousal_N_women  avg_valence  avg_arousal emotion  \n",
       "32          1.874335               55     6.041796     3.647310   happy  \n",
       "35          1.828506               55     6.155315     3.709647   happy  \n",
       "36          1.809626               55     6.060372     3.641558   happy  \n",
       "38          1.816498               55     6.116099     3.907236   happy  \n",
       "39          1.659903               52     5.820040     3.635597   happy  "
      ]
     },
     "execution_count": 10,
     "metadata": {},
     "output_type": "execute_result"
    }
   ],
   "source": [
    "data.head()"
   ]
  },
  {
   "cell_type": "markdown",
   "metadata": {},
   "source": [
    "# Manual processing to remove unwanted images"
   ]
  },
  {
   "cell_type": "code",
   "execution_count": 11,
   "metadata": {
    "scrolled": true
   },
   "outputs": [],
   "source": [
    "to_remove = []\n",
    "\n",
    "for emotion in data.emotion.unique():\n",
    "    for path in data[data[\"emotion\"] == emotion][\"Theme\"]:\n",
    "        imgpath = \"Images/\" + path + \".jpg\"\n",
    "        frame = cv2.imread(imgpath, 1)\n",
    "        cv2.imshow('Window', frame)\n",
    "\n",
    "        key = cv2.waitKey(0)\n",
    "        if key == 97: # press \"a\" to remove images\n",
    "            to_remove.append(path)\n",
    "        if key == 100: # press \"d\" to select image\n",
    "            continue\n",
    "            \n",
    "cv2.destroyAllWindows()"
   ]
  },
  {
   "cell_type": "code",
   "execution_count": 17,
   "metadata": {},
   "outputs": [],
   "source": [
    "for r in to_remove:  \n",
    "    data = data.drop(data[(data[\"Theme\"] == r)].index)"
   ]
  },
  {
   "cell_type": "code",
   "execution_count": 26,
   "metadata": {},
   "outputs": [],
   "source": [
    "data = data[[\"Theme\", \"emotion\", \"avg_valence\", \"avg_arousal\"]]"
   ]
  },
  {
   "cell_type": "code",
   "execution_count": 27,
   "metadata": {},
   "outputs": [
    {
     "data": {
      "text/html": [
       "<div>\n",
       "<style scoped>\n",
       "    .dataframe tbody tr th:only-of-type {\n",
       "        vertical-align: middle;\n",
       "    }\n",
       "\n",
       "    .dataframe tbody tr th {\n",
       "        vertical-align: top;\n",
       "    }\n",
       "\n",
       "    .dataframe thead th {\n",
       "        text-align: right;\n",
       "    }\n",
       "</style>\n",
       "<table border=\"1\" class=\"dataframe\">\n",
       "  <thead>\n",
       "    <tr style=\"text-align: right;\">\n",
       "      <th></th>\n",
       "      <th>Theme</th>\n",
       "      <th>emotion</th>\n",
       "      <th>avg_valence</th>\n",
       "      <th>avg_arousal</th>\n",
       "    </tr>\n",
       "  </thead>\n",
       "  <tbody>\n",
       "    <tr>\n",
       "      <th>32</th>\n",
       "      <td>Baby 2</td>\n",
       "      <td>happy</td>\n",
       "      <td>6.041796</td>\n",
       "      <td>3.647310</td>\n",
       "    </tr>\n",
       "    <tr>\n",
       "      <th>35</th>\n",
       "      <td>Baby 5</td>\n",
       "      <td>happy</td>\n",
       "      <td>6.155315</td>\n",
       "      <td>3.709647</td>\n",
       "    </tr>\n",
       "    <tr>\n",
       "      <th>36</th>\n",
       "      <td>Baby 6</td>\n",
       "      <td>happy</td>\n",
       "      <td>6.060372</td>\n",
       "      <td>3.641558</td>\n",
       "    </tr>\n",
       "    <tr>\n",
       "      <th>38</th>\n",
       "      <td>Baby 8</td>\n",
       "      <td>happy</td>\n",
       "      <td>6.116099</td>\n",
       "      <td>3.907236</td>\n",
       "    </tr>\n",
       "    <tr>\n",
       "      <th>39</th>\n",
       "      <td>Baby 9</td>\n",
       "      <td>happy</td>\n",
       "      <td>5.820040</td>\n",
       "      <td>3.635597</td>\n",
       "    </tr>\n",
       "    <tr>\n",
       "      <th>...</th>\n",
       "      <td>...</td>\n",
       "      <td>...</td>\n",
       "      <td>...</td>\n",
       "      <td>...</td>\n",
       "    </tr>\n",
       "    <tr>\n",
       "      <th>864</th>\n",
       "      <td>War 2</td>\n",
       "      <td>sad</td>\n",
       "      <td>2.323777</td>\n",
       "      <td>4.588179</td>\n",
       "    </tr>\n",
       "    <tr>\n",
       "      <th>866</th>\n",
       "      <td>War 4</td>\n",
       "      <td>sad</td>\n",
       "      <td>3.004167</td>\n",
       "      <td>4.774922</td>\n",
       "    </tr>\n",
       "    <tr>\n",
       "      <th>869</th>\n",
       "      <td>War 7</td>\n",
       "      <td>sad</td>\n",
       "      <td>3.137129</td>\n",
       "      <td>4.248941</td>\n",
       "    </tr>\n",
       "    <tr>\n",
       "      <th>872</th>\n",
       "      <td>Weapon 1</td>\n",
       "      <td>sad</td>\n",
       "      <td>2.820949</td>\n",
       "      <td>3.799072</td>\n",
       "    </tr>\n",
       "    <tr>\n",
       "      <th>888</th>\n",
       "      <td>Wolf 2</td>\n",
       "      <td>sad</td>\n",
       "      <td>3.052900</td>\n",
       "      <td>4.658142</td>\n",
       "    </tr>\n",
       "  </tbody>\n",
       "</table>\n",
       "<p>320 rows × 4 columns</p>\n",
       "</div>"
      ],
      "text/plain": [
       "        Theme emotion  avg_valence  avg_arousal\n",
       "32     Baby 2   happy     6.041796     3.647310\n",
       "35     Baby 5   happy     6.155315     3.709647\n",
       "36     Baby 6   happy     6.060372     3.641558\n",
       "38     Baby 8   happy     6.116099     3.907236\n",
       "39     Baby 9   happy     5.820040     3.635597\n",
       "..        ...     ...          ...          ...\n",
       "864     War 2     sad     2.323777     4.588179\n",
       "866     War 4     sad     3.004167     4.774922\n",
       "869     War 7     sad     3.137129     4.248941\n",
       "872  Weapon 1     sad     2.820949     3.799072\n",
       "888    Wolf 2     sad     3.052900     4.658142\n",
       "\n",
       "[320 rows x 4 columns]"
      ]
     },
     "execution_count": 27,
     "metadata": {},
     "output_type": "execute_result"
    }
   ],
   "source": [
    "data"
   ]
  },
  {
   "cell_type": "code",
   "execution_count": 19,
   "metadata": {},
   "outputs": [],
   "source": [
    "data.to_csv(\"legend.csv\")"
   ]
  },
  {
   "cell_type": "code",
   "execution_count": 21,
   "metadata": {},
   "outputs": [],
   "source": [
    "for img in data[\"Theme\"]:\n",
    "    imgpath = \"Images/\" + img + \".jpg\"\n",
    "    copy(imgpath, \"img\")"
   ]
  },
  {
   "cell_type": "code",
   "execution_count": 22,
   "metadata": {},
   "outputs": [
    {
     "data": {
      "text/plain": [
       "(99, 19)"
      ]
     },
     "execution_count": 22,
     "metadata": {},
     "output_type": "execute_result"
    }
   ],
   "source": [
    "data[data[\"emotion\"] == \"happy\"].shape"
   ]
  },
  {
   "cell_type": "code",
   "execution_count": 23,
   "metadata": {},
   "outputs": [
    {
     "data": {
      "text/plain": [
       "(104, 19)"
      ]
     },
     "execution_count": 23,
     "metadata": {},
     "output_type": "execute_result"
    }
   ],
   "source": [
    "data[data[\"emotion\"] == \"neutral\"].shape"
   ]
  },
  {
   "cell_type": "code",
   "execution_count": 24,
   "metadata": {},
   "outputs": [
    {
     "data": {
      "text/plain": [
       "(117, 19)"
      ]
     },
     "execution_count": 24,
     "metadata": {},
     "output_type": "execute_result"
    }
   ],
   "source": [
    "data[data[\"emotion\"] == \"sad\"].shape"
   ]
  }
 ],
 "metadata": {
  "kernelspec": {
   "display_name": "Python 3",
   "language": "python",
   "name": "python3"
  },
  "language_info": {
   "codemirror_mode": {
    "name": "ipython",
    "version": 3
   },
   "file_extension": ".py",
   "mimetype": "text/x-python",
   "name": "python",
   "nbconvert_exporter": "python",
   "pygments_lexer": "ipython3",
   "version": "3.8.5"
  }
 },
 "nbformat": 4,
 "nbformat_minor": 4
}
