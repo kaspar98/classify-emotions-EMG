{
 "cells": [
  {
   "cell_type": "code",
   "execution_count": 1,
   "metadata": {},
   "outputs": [],
   "source": [
    "import pandas as pd\n",
    "import numpy as np\n",
    "from sklearn.model_selection import train_test_split"
   ]
  },
  {
   "cell_type": "code",
   "execution_count": 2,
   "metadata": {},
   "outputs": [],
   "source": [
    "df = pd.read_pickle(\"data_sample_len2_sample_step2.pkl\")"
   ]
  },
  {
   "cell_type": "code",
   "execution_count": 3,
   "metadata": {},
   "outputs": [
    {
     "data": {
      "text/html": [
       "<div>\n",
       "<style scoped>\n",
       "    .dataframe tbody tr th:only-of-type {\n",
       "        vertical-align: middle;\n",
       "    }\n",
       "\n",
       "    .dataframe tbody tr th {\n",
       "        vertical-align: top;\n",
       "    }\n",
       "\n",
       "    .dataframe thead th {\n",
       "        text-align: right;\n",
       "    }\n",
       "</style>\n",
       "<table border=\"1\" class=\"dataframe\">\n",
       "  <thead>\n",
       "    <tr style=\"text-align: right;\">\n",
       "      <th></th>\n",
       "      <th>apen</th>\n",
       "      <th>fmean</th>\n",
       "      <th>fmed</th>\n",
       "      <th>fmode</th>\n",
       "      <th>intrange</th>\n",
       "      <th>mav</th>\n",
       "      <th>mavfd</th>\n",
       "      <th>mavsd</th>\n",
       "      <th>peak</th>\n",
       "      <th>rms</th>\n",
       "      <th>sampen</th>\n",
       "      <th>srange</th>\n",
       "      <th>std</th>\n",
       "      <th>var</th>\n",
       "      <th>zc</th>\n",
       "      <th>Emotion</th>\n",
       "      <th>Muscle</th>\n",
       "      <th>Person</th>\n",
       "      <th>Sample idx</th>\n",
       "    </tr>\n",
       "  </thead>\n",
       "  <tbody>\n",
       "    <tr>\n",
       "      <th>0</th>\n",
       "      <td>1.307227</td>\n",
       "      <td>0.238228</td>\n",
       "      <td>0.253906</td>\n",
       "      <td>11.391353+7.735965j</td>\n",
       "      <td>0.296268</td>\n",
       "      <td>0.184651</td>\n",
       "      <td>0.253215</td>\n",
       "      <td>0.396857</td>\n",
       "      <td>1.000022</td>\n",
       "      <td>0.233531</td>\n",
       "      <td>1.939744</td>\n",
       "      <td>1.718309</td>\n",
       "      <td>0.233519</td>\n",
       "      <td>0.054531</td>\n",
       "      <td>238</td>\n",
       "      <td>happy</td>\n",
       "      <td>Zygomaticus Major</td>\n",
       "      <td>alar</td>\n",
       "      <td>0</td>\n",
       "    </tr>\n",
       "    <tr>\n",
       "      <th>1</th>\n",
       "      <td>1.326351</td>\n",
       "      <td>0.244564</td>\n",
       "      <td>0.261719</td>\n",
       "      <td>14.179856+12.743834j</td>\n",
       "      <td>0.356517</td>\n",
       "      <td>0.205449</td>\n",
       "      <td>0.280853</td>\n",
       "      <td>0.439035</td>\n",
       "      <td>0.704597</td>\n",
       "      <td>0.257154</td>\n",
       "      <td>2.101206</td>\n",
       "      <td>1.537603</td>\n",
       "      <td>0.257139</td>\n",
       "      <td>0.066121</td>\n",
       "      <td>242</td>\n",
       "      <td>happy</td>\n",
       "      <td>Zygomaticus Major</td>\n",
       "      <td>alar</td>\n",
       "      <td>1</td>\n",
       "    </tr>\n",
       "  </tbody>\n",
       "</table>\n",
       "</div>"
      ],
      "text/plain": [
       "       apen     fmean      fmed                 fmode  intrange       mav  \\\n",
       "0  1.307227  0.238228  0.253906   11.391353+7.735965j  0.296268  0.184651   \n",
       "1  1.326351  0.244564  0.261719  14.179856+12.743834j  0.356517  0.205449   \n",
       "\n",
       "      mavfd     mavsd      peak       rms    sampen    srange       std  \\\n",
       "0  0.253215  0.396857  1.000022  0.233531  1.939744  1.718309  0.233519   \n",
       "1  0.280853  0.439035  0.704597  0.257154  2.101206  1.537603  0.257139   \n",
       "\n",
       "        var   zc Emotion             Muscle Person  Sample idx  \n",
       "0  0.054531  238   happy  Zygomaticus Major   alar           0  \n",
       "1  0.066121  242   happy  Zygomaticus Major   alar           1  "
      ]
     },
     "execution_count": 3,
     "metadata": {},
     "output_type": "execute_result"
    }
   ],
   "source": [
    "df.head(2)"
   ]
  },
  {
   "cell_type": "code",
   "execution_count": 4,
   "metadata": {},
   "outputs": [],
   "source": [
    "df[\"Muscle\"] = df[\"Muscle\"].astype('category')\n",
    "df[\"Emotion\"] = df[\"Emotion\"].astype('category')\n",
    "df = df.drop([\"Person\", \"Sample idx\"], axis=1)\n",
    "\n",
    "X = pd.get_dummies(df.drop([\"Emotion\", \"fmode\"], axis=1))\n",
    "y = df[\"Emotion\"]"
   ]
  },
  {
   "cell_type": "code",
   "execution_count": 5,
   "metadata": {},
   "outputs": [],
   "source": [
    "X_train, X_test, y_train, y_test = train_test_split(X, y, test_size=0.1, random_state=1)"
   ]
  },
  {
   "cell_type": "code",
   "execution_count": 6,
   "metadata": {},
   "outputs": [
    {
     "name": "stdout",
     "output_type": "stream",
     "text": [
      "0.19230769230769232\n"
     ]
    }
   ],
   "source": [
    "from sklearn.svm import SVC\n",
    "\n",
    "clf = SVC(kernel=\"rbf\")\n",
    "clf.fit(X_train, y_train)\n",
    "print(np.mean(clf.predict(X_test) == y_test))"
   ]
  },
  {
   "cell_type": "code",
   "execution_count": 7,
   "metadata": {},
   "outputs": [
    {
     "name": "stdout",
     "output_type": "stream",
     "text": [
      "0.38461538461538464\n"
     ]
    }
   ],
   "source": [
    "clf = SVC(kernel=\"linear\")\n",
    "clf.fit(X_train, y_train)\n",
    "print(np.mean(clf.predict(X_test) == y_test))"
   ]
  },
  {
   "cell_type": "code",
   "execution_count": 8,
   "metadata": {},
   "outputs": [
    {
     "name": "stdout",
     "output_type": "stream",
     "text": [
      "0.3076923076923077\n"
     ]
    }
   ],
   "source": [
    "from sklearn.neighbors import KNeighborsClassifier\n",
    "\n",
    "clf = KNeighborsClassifier(n_neighbors=3)\n",
    "clf.fit(X_train, y_train)\n",
    "print(np.mean(clf.predict(X_test) == y_test))"
   ]
  },
  {
   "cell_type": "code",
   "execution_count": 9,
   "metadata": {},
   "outputs": [
    {
     "data": {
      "text/plain": [
       "0.6153846153846154"
      ]
     },
     "execution_count": 9,
     "metadata": {},
     "output_type": "execute_result"
    }
   ],
   "source": [
    "from sklearn.ensemble import RandomForestClassifier\n",
    "\n",
    "clf = RandomForestClassifier(n_estimators=50, random_state=5)\n",
    "clf = clf.fit(X_train, y_train)\n",
    "np.mean(clf.predict(X_test) == y_test)"
   ]
  },
  {
   "cell_type": "code",
   "execution_count": 10,
   "metadata": {},
   "outputs": [],
   "source": [
    "from sklearn.model_selection import KFold\n",
    "\n",
    "kf = KFold(n_splits=len(y), random_state=0, shuffle=True)\n",
    "accuracies = []\n",
    "\n",
    "for train_index, test_index in kf.split(X, y):\n",
    "    clf = RandomForestClassifier(n_estimators=100, random_state=0)\n",
    "    X_train, X_test = X.values[train_index], X.values[test_index]\n",
    "    y_train, y_test = y[train_index], y[test_index]\n",
    "    clf.fit(X_train, y_train)\n",
    "    acc = np.mean(clf.predict(X_test) == y_test)\n",
    "    accuracies.append(acc)"
   ]
  },
  {
   "cell_type": "code",
   "execution_count": 11,
   "metadata": {},
   "outputs": [
    {
     "data": {
      "text/plain": [
       "0.5277777777777778"
      ]
     },
     "execution_count": 11,
     "metadata": {},
     "output_type": "execute_result"
    }
   ],
   "source": [
    "np.mean(accuracies)"
   ]
  },
  {
   "cell_type": "code",
   "execution_count": 12,
   "metadata": {},
   "outputs": [],
   "source": [
    "from sklearn.model_selection import GridSearchCV, cross_val_score, KFold\n",
    "\n",
    "rf = RandomForestClassifier(n_estimators=100)\n",
    "seed = 0\n",
    "param_grid = {\"min_samples_split\":[2,4,8,16,32] }\n",
    "\n",
    "# Inner CV: for hyperparameter tuning inside the leave-one-out CV\n",
    "inner_cv = KFold(n_splits=10, shuffle=True, random_state=seed)\n",
    "\n",
    "# Outer CV: leave-one-out CV\n",
    "outer_cv = KFold(n_splits=len(y), shuffle=True, random_state=seed)\n",
    "\n",
    "# Non-nested parameter search: just leave-one-out CV\n",
    "clf = GridSearchCV(estimator=rf, param_grid=param_grid, cv=inner_cv)\n",
    "clf.fit(X, y)\n",
    "non_nested_score = clf.best_score_\n",
    "\n",
    "# Nested CV\n",
    "clf = GridSearchCV(estimator=rf, param_grid=param_grid, cv=inner_cv)\n",
    "nested_score = cross_val_score(clf, X=X, y=y, cv=outer_cv).mean()"
   ]
  },
  {
   "cell_type": "code",
   "execution_count": 13,
   "metadata": {
    "scrolled": true
   },
   "outputs": [
    {
     "data": {
      "text/plain": [
       "0.528"
      ]
     },
     "execution_count": 13,
     "metadata": {},
     "output_type": "execute_result"
    }
   ],
   "source": [
    "non_nested_score"
   ]
  },
  {
   "cell_type": "code",
   "execution_count": 14,
   "metadata": {},
   "outputs": [
    {
     "data": {
      "text/plain": [
       "0.5119047619047619"
      ]
     },
     "execution_count": 14,
     "metadata": {},
     "output_type": "execute_result"
    }
   ],
   "source": [
    "nested_score"
   ]
  },
  {
   "cell_type": "code",
   "execution_count": 15,
   "metadata": {},
   "outputs": [
    {
     "data": {
      "text/plain": [
       "252"
      ]
     },
     "execution_count": 15,
     "metadata": {},
     "output_type": "execute_result"
    }
   ],
   "source": [
    "len(y)"
   ]
  },
  {
   "cell_type": "code",
   "execution_count": null,
   "metadata": {},
   "outputs": [],
   "source": []
  }
 ],
 "metadata": {
  "kernelspec": {
   "display_name": "Python 3",
   "language": "python",
   "name": "python3"
  },
  "language_info": {
   "codemirror_mode": {
    "name": "ipython",
    "version": 3
   },
   "file_extension": ".py",
   "mimetype": "text/x-python",
   "name": "python",
   "nbconvert_exporter": "python",
   "pygments_lexer": "ipython3",
   "version": "3.8.5"
  }
 },
 "nbformat": 4,
 "nbformat_minor": 4
}
