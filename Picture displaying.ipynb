{
 "cells": [
  {
   "cell_type": "code",
   "execution_count": 1,
   "metadata": {},
   "outputs": [],
   "source": [
    "import pandas as pd\n",
    "import cv2"
   ]
  },
  {
   "cell_type": "code",
   "execution_count": 2,
   "metadata": {},
   "outputs": [],
   "source": [
    "legend = pd.read_csv(\"legend.csv\")"
   ]
  },
  {
   "cell_type": "code",
   "execution_count": 3,
   "metadata": {},
   "outputs": [],
   "source": [
    "sample_size = 10\n",
    "\n",
    "happy = legend[legend[\"emotion\"] == \"happy\"].sample(sample_size)[\"Theme\"]\n",
    "neutral = legend[legend[\"emotion\"] == \"neutral\"].sample(sample_size)[\"Theme\"]\n",
    "sad = legend[legend[\"emotion\"] == \"sad\"].sample(sample_size)[\"Theme\"]\n",
    "\n",
    "data = [happy, neutral, sad]"
   ]
  },
  {
   "cell_type": "code",
   "execution_count": 4,
   "metadata": {},
   "outputs": [],
   "source": [
    "# Window fullscreen\n",
    "window_name = \"Window\"\n",
    "cv2.namedWindow(window_name, cv2.WND_PROP_FULLSCREEN)\n",
    "cv2.setWindowProperty(window_name,cv2.WND_PROP_FULLSCREEN,cv2.WINDOW_FULLSCREEN)\n",
    "\n",
    "# Press any key to begin\n",
    "frame = cv2.imread(\"img/begin.jpg\", 1)\n",
    "cv2.imshow(window_name, frame)\n",
    "key = cv2.waitKey(0) \n",
    "\n",
    "# Iterate through pics\n",
    "# happy -> neutral -> sad \n",
    "for category in data:\n",
    "    for path in category:\n",
    "        imgpath = \"img/\" + path + \".jpg\"\n",
    "        \n",
    "        frame = cv2.imread(imgpath, 1)\n",
    "        \n",
    "        img = cv2.resize(frame, (500, 400), interpolation=cv2.INTER_CUBIC)\n",
    "        \n",
    "        img = cv2.copyMakeBorder(\n",
    "                 img, \n",
    "                 340, \n",
    "                 340, \n",
    "                 710, \n",
    "                 710, \n",
    "                 cv2.BORDER_CONSTANT, \n",
    "                 value=(0,0,0)\n",
    "              )\n",
    "        cv2.imshow(window_name, img)\n",
    "        \n",
    "\n",
    "        key = cv2.waitKey(3000) # Show for 3 sec?\n",
    "        if key == 100: # press \"a\" to skip pic\n",
    "            continue\n",
    "        if key == 97: # press \"d\" to skip category\n",
    "            break\n",
    "        \n",
    "cv2.destroyAllWindows()"
   ]
  },
  {
   "cell_type": "code",
   "execution_count": null,
   "metadata": {},
   "outputs": [],
   "source": []
  }
 ],
 "metadata": {
  "kernelspec": {
   "display_name": "Python 3",
   "language": "python",
   "name": "python3"
  },
  "language_info": {
   "codemirror_mode": {
    "name": "ipython",
    "version": 3
   },
   "file_extension": ".py",
   "mimetype": "text/x-python",
   "name": "python",
   "nbconvert_exporter": "python",
   "pygments_lexer": "ipython3",
   "version": "3.8.5"
  }
 },
 "nbformat": 4,
 "nbformat_minor": 4
}
