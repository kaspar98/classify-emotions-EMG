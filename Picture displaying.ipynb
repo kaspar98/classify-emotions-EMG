{
 "cells": [
  {
   "cell_type": "code",
   "execution_count": 1,
   "metadata": {},
   "outputs": [],
   "source": [
    "import pandas as pd\n",
    "import cv2"
   ]
  },
  {
   "cell_type": "code",
   "execution_count": 2,
   "metadata": {},
   "outputs": [],
   "source": [
    "legend = pd.read_csv(\"legend.csv\")"
   ]
  },
  {
   "cell_type": "code",
   "execution_count": 3,
   "metadata": {},
   "outputs": [],
   "source": [
    "sample_size = 100\n",
    "\n",
    "happiness = legend[legend[\"emotion\"] == \"happiness\"].sample(sample_size)[\"image\"]\n",
    "surprise = legend[legend[\"emotion\"] == \"surprise\"].sample(sample_size)[\"image\"]\n",
    "anger = legend[legend[\"emotion\"] == \"anger\"].sample(sample_size)[\"image\"]\n",
    "sadness = legend[legend[\"emotion\"] == \"sadness\"].sample(sample_size)[\"image\"]\n",
    "\n",
    "data = [happiness, surprise, anger, sadness]"
   ]
  },
  {
   "cell_type": "code",
   "execution_count": 4,
   "metadata": {},
   "outputs": [],
   "source": [
    "frame = cv2.imread(\"img/begin.jpg\", 1)\n",
    "cv2.imshow('Window', frame)\n",
    "key = cv2.waitKey(0) # press any key to begin\n",
    "\n",
    "for category in data:\n",
    "    for path in category:\n",
    "        imgpath = \"images/\" + path\n",
    "        frame = cv2.imread(imgpath, 1)\n",
    "        cv2.imshow('Window', frame)\n",
    "\n",
    "        key = cv2.waitKey(300)\n",
    "        \n",
    "        if key == 27:    \n",
    "            break\n",
    "            \n",
    "cv2.destroyAllWindows()\n"
   ]
  },
  {
   "cell_type": "code",
   "execution_count": null,
   "metadata": {},
   "outputs": [],
   "source": []
  },
  {
   "cell_type": "code",
   "execution_count": null,
   "metadata": {},
   "outputs": [],
   "source": []
  }
 ],
 "metadata": {
  "kernelspec": {
   "display_name": "Python 3",
   "language": "python",
   "name": "python3"
  },
  "language_info": {
   "codemirror_mode": {
    "name": "ipython",
    "version": 3
   },
   "file_extension": ".py",
   "mimetype": "text/x-python",
   "name": "python",
   "nbconvert_exporter": "python",
   "pygments_lexer": "ipython3",
   "version": "3.8.5"
  }
 },
 "nbformat": 4,
 "nbformat_minor": 4
}
