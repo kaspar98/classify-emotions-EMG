{
 "cells": [
  {
   "cell_type": "code",
   "execution_count": 1,
   "metadata": {},
   "outputs": [],
   "source": [
    "import numpy as np\n",
    "import scipy\n",
    "from scipy.signal import welch\n",
    "\n",
    "class SignalFeatures:\n",
    "    \"\"\"\n",
    "    Signal Features class computes 16-features for an EMG signal,\n",
    "    recommended in xxx\n",
    "    \n",
    "    Parameters:\n",
    "        signal (list or array): 1D TimeSeries Filtered signal\n",
    "\n",
    "    Attributes:\n",
    "\n",
    "    \"\"\"\n",
    "    \n",
    "    def __init__(self, signal):\n",
    "        self.signal = np.array(signal)\n",
    "\n",
    "    def mav(self):\n",
    "        '''\n",
    "        Returns: \n",
    "            mean absolute value of signal\n",
    "        '''\n",
    "        return np.mean(np.abs(self.signal))\n",
    "    \n",
    "    # Mean Absolute Value of First Fifference (of signal)\n",
    "    def mavfd(self):\n",
    "        a = self.signal\n",
    "        return np.mean(np.sum(np.abs(a[i] - a[i+1]) for i in range(len(a) - 1)))\n",
    "    \n",
    "    # Mean Absolute Value of Second difference (of signal)\n",
    "    def mavsd(self):\n",
    "        a = self.signal\n",
    "        return np.mean(np.sum(np.abs(a[i] - a[i+2]) for i in range(len(a) - 2)))\n",
    "    \n",
    "    # Signal Peak\n",
    "    def peak(self):\n",
    "        return\n",
    "\n",
    "    # Root Mean Square\n",
    "    def rms(self):\n",
    "        return np.sqrt(np.sum(np.square(self.signal)))\n",
    "    \n",
    "    # Zero-crossing: Nr. of time signal changes from positive to negative\n",
    "    def zc(self, threshold=0.0):\n",
    "        nr_crossings = 0\n",
    "        a = self.signal\n",
    "        for i in range(len(a)):\n",
    "            if ((a[i]*a[i+1]) < 0) & (np.abs(a[i] - a[i+1]) > threshold):\n",
    "                nr_crossings += 1 \n",
    "\n",
    "        return nr_crossings\n",
    "    \n",
    "    # Fmed\n",
    "    def fmed(self):\n",
    "        # fs ? \n",
    "        f, P = welch(self.signal, fs=fs, window='hanning', noverlap=0, nfft=int(256.))\n",
    "        \n",
    "        # Total Power and Median Frequency (Frequency that divides the spectrum into two regions with equal power)\n",
    "        area_freq = scipy.integrate.cumtrapz(P, f, initial=0)\n",
    "        total_power = area_freq[-1]\n",
    "        median_freq = f[where(area_freq >= total_power / 2)[0][0]]\n",
    "        f_max = f[argmax(P)]\n",
    "        return median_freq\n",
    "    \n",
    "    # Fmode\n",
    "    # Max value of FFTransformed signal\n",
    "    # https://www.ncbi.nlm.nih.gov/pmc/articles/PMC4712064/\n",
    "    def fmode(self):\n",
    "        return max(scipy.fft(self.signal))\n",
    "    \n",
    "    # Fmean\n",
    "    # https://journals.plos.org/plosone/article?id=10.1371/journal.pone.0180526\n",
    "    def fmean(self):\n",
    "        # fs ? \n",
    "        f, P = welch(self.signal, fs=fs, window='hanning', noverlap=0, nfft=int(256.))\n",
    "        mnf = np.mean((f[i] * P[i]) for i in range(len(f))) / np.mean(P[i] for i in range(len(P)))\n",
    "        return mnf\n",
    "    \n",
    "    # CF: Central Frequency\n",
    "    def cf(self):\n",
    "        return\n",
    "    \n",
    "    # Fuzzy entropy\n",
    "    # MATLAB Equivalent\n",
    "    # https://www.mathworks.com/matlabcentral/fileexchange/35784-sample-entropy\n",
    "    def fuzzy_entropy(self, dim=1, tau=1):\n",
    "        N = len(self.signal)\n",
    "        correl = np.zeros(2,1)\n",
    "        dataArr = np.zeros(dim+1,N-dim);\n",
    "        \n",
    "        for i in range(dim):\n",
    "            dataArr[i, :] = self.signal[i:N-dim+i-1]\n",
    "        \n",
    "        for m in range(dim):\n",
    "            count = np.zeros((1, N-dim))\n",
    "            tempArr = dataArr[0:m, :]\n",
    "            \n",
    "            for i in range(N-m):\n",
    "                # Calculate Chebyshev distance, excluding self-matching case\n",
    "                dist = max(abs(tempArr[:,i:N-dim]) - repmat(tempArr[:,i],1,N-dim-i)));\n",
    "\n",
    "                # Calculate Heaviside function of the distance\n",
    "                # User can change it to any other function\n",
    "                # for modified sample entropy (mSampEn) calculation\n",
    "                D = (dist < r);\n",
    "\n",
    "                count[i] = sum(D)/(N-dim);\n",
    "            \n",
    "            correl[m-dim] = sum(count) / (N-dim)\n",
    "            \n",
    "        return np.log(correl[0]/correl[1])\n",
    "    \n",
    "    # Approximate entropy\n",
    "    def approximate_entropy(self):\n",
    "        return\n",
    "    \n",
    "    # Variability\n",
    "    def var(self):\n",
    "        return np.var(self.signal)\n",
    "    \n",
    "    # Standard Deviation\n",
    "    def std(self):\n",
    "        return np.std(self.signal)\n",
    "    \n",
    "    # Range\n",
    "    def srange(self):\n",
    "        return np.ptp(self.signal)\n",
    "    \n",
    "    # Int Range\n",
    "    def intrange(self):\n",
    "        return scipy.stats.iqr(self.signal)"
   ]
  },
  {
   "cell_type": "code",
   "execution_count": 179,
   "metadata": {},
   "outputs": [
    {
     "data": {
      "text/plain": [
       "2"
      ]
     },
     "execution_count": 179,
     "metadata": {},
     "output_type": "execute_result"
    }
   ],
   "source": [
    "import numpy as np\n",
    "\n",
    "x = np.array([3, 5, -2, 1])\n",
    "# np.argmax(x)\n",
    "# # var(x)\n",
    "\n",
    "# def ollie():\n",
    "#     for i in x:\n",
    "#         yield i**i\n",
    "\n",
    "# a = ollie()\n",
    "# np.fromiter(a, float)\n",
    "zc = np.where(np.diff(np.signbit(x)))[0]\n",
    "a = len(zc)\n",
    "a\n",
    "# for b in a:\n",
    "#     print(b)\n",
    "# first_differences = [functools.partial(lambda i, a: a[i] - a[i + 1], i) for i in range(len(x) - 1)]\n",
    "\n",
    "# for fd in first_differences:\n",
    "#     np.mean(np.abs(fd))\n",
    "# first_differences_arr = np.array(first_differences(x))\n",
    "# np.mean(np.abs(first_differences_arr))"
   ]
  },
  {
   "cell_type": "code",
   "execution_count": null,
   "metadata": {},
   "outputs": [],
   "source": [
    "signal = np.array([-2, 8, 6, 4, 1, 0, 3, 5], dtype=float)\n",
    "fourier = np.fft.fft(signal)\n",
    "n = signal.size\n",
    "timestep = 0.1\n",
    "freq = np.fft.fftfreq(n, d=timestep)\n",
    "freq"
   ]
  },
  {
   "cell_type": "code",
   "execution_count": 41,
   "metadata": {},
   "outputs": [
    {
     "data": {
      "text/plain": [
       "array([[0., 0., 0., 0., 0., 0., 0., 0., 0., 0.]])"
      ]
     },
     "execution_count": 41,
     "metadata": {},
     "output_type": "execute_result"
    }
   ],
   "source": [
    "a = np.zeros((2,10))\n",
    "# a[0,:]\n",
    "a[0:1, :]"
   ]
  },
  {
   "cell_type": "code",
   "execution_count": 12,
   "metadata": {},
   "outputs": [
    {
     "data": {
      "text/plain": [
       "(4.5+0j)"
      ]
     },
     "execution_count": 12,
     "metadata": {},
     "output_type": "execute_result"
    }
   ],
   "source": [
    "import scipy\n",
    "\n",
    "x = np.array([1.0, 2.0, 1.0, -1.0, 1.5])\n",
    "y = scipy.fft(x)\n",
    "\n",
    "max(y)"
   ]
  },
  {
   "cell_type": "code",
   "execution_count": 16,
   "metadata": {},
   "outputs": [
    {
     "data": {
      "text/html": [
       "<div>\n",
       "<style scoped>\n",
       "    .dataframe tbody tr th:only-of-type {\n",
       "        vertical-align: middle;\n",
       "    }\n",
       "\n",
       "    .dataframe tbody tr th {\n",
       "        vertical-align: top;\n",
       "    }\n",
       "\n",
       "    .dataframe thead th {\n",
       "        text-align: right;\n",
       "    }\n",
       "</style>\n",
       "<table border=\"1\" class=\"dataframe\">\n",
       "  <thead>\n",
       "    <tr style=\"text-align: right;\">\n",
       "      <th></th>\n",
       "      <th>Sample Index</th>\n",
       "      <th>EXG Channel 0</th>\n",
       "      <th>EXG Channel 1</th>\n",
       "      <th>EXG Channel 2</th>\n",
       "      <th>EXG Channel 3</th>\n",
       "      <th>EXG Channel 4</th>\n",
       "      <th>EXG Channel 5</th>\n",
       "      <th>EXG Channel 6</th>\n",
       "      <th>EXG Channel 7</th>\n",
       "      <th>Accel Channel 0</th>\n",
       "      <th>...</th>\n",
       "      <th>Other.2</th>\n",
       "      <th>Other.3</th>\n",
       "      <th>Other.4</th>\n",
       "      <th>Other.5</th>\n",
       "      <th>Other.6</th>\n",
       "      <th>Analog Channel 0</th>\n",
       "      <th>Analog Channel 1</th>\n",
       "      <th>Analog Channel 2</th>\n",
       "      <th>Timestamp</th>\n",
       "      <th>Timestamp (Formatted)</th>\n",
       "    </tr>\n",
       "  </thead>\n",
       "  <tbody>\n",
       "    <tr>\n",
       "      <th>0</th>\n",
       "      <td>39.0</td>\n",
       "      <td>-187500.015625</td>\n",
       "      <td>-187500.015625</td>\n",
       "      <td>-187500.015625</td>\n",
       "      <td>-187500.015625</td>\n",
       "      <td>-187500.015625</td>\n",
       "      <td>-187500.015625</td>\n",
       "      <td>-187500.015625</td>\n",
       "      <td>-187500.015625</td>\n",
       "      <td>0.000</td>\n",
       "      <td>...</td>\n",
       "      <td>0.0</td>\n",
       "      <td>0.0</td>\n",
       "      <td>0.0</td>\n",
       "      <td>0.0</td>\n",
       "      <td>0.0</td>\n",
       "      <td>0.0</td>\n",
       "      <td>0.0</td>\n",
       "      <td>0.0</td>\n",
       "      <td>1.610736e+09</td>\n",
       "      <td>2021-01-15 20:33:31.707</td>\n",
       "    </tr>\n",
       "    <tr>\n",
       "      <th>1</th>\n",
       "      <td>40.0</td>\n",
       "      <td>43866.480469</td>\n",
       "      <td>-187500.015625</td>\n",
       "      <td>-8980.751953</td>\n",
       "      <td>-187500.015625</td>\n",
       "      <td>-187500.015625</td>\n",
       "      <td>-187500.015625</td>\n",
       "      <td>-187500.015625</td>\n",
       "      <td>-187500.015625</td>\n",
       "      <td>0.000</td>\n",
       "      <td>...</td>\n",
       "      <td>0.0</td>\n",
       "      <td>0.0</td>\n",
       "      <td>0.0</td>\n",
       "      <td>0.0</td>\n",
       "      <td>0.0</td>\n",
       "      <td>0.0</td>\n",
       "      <td>0.0</td>\n",
       "      <td>0.0</td>\n",
       "      <td>1.610736e+09</td>\n",
       "      <td>2021-01-15 20:33:31.707</td>\n",
       "    </tr>\n",
       "    <tr>\n",
       "      <th>2</th>\n",
       "      <td>41.0</td>\n",
       "      <td>-187500.015625</td>\n",
       "      <td>-187500.015625</td>\n",
       "      <td>-187500.015625</td>\n",
       "      <td>-187500.015625</td>\n",
       "      <td>-187500.015625</td>\n",
       "      <td>-187500.015625</td>\n",
       "      <td>-187500.015625</td>\n",
       "      <td>-187500.015625</td>\n",
       "      <td>0.000</td>\n",
       "      <td>...</td>\n",
       "      <td>0.0</td>\n",
       "      <td>0.0</td>\n",
       "      <td>0.0</td>\n",
       "      <td>0.0</td>\n",
       "      <td>0.0</td>\n",
       "      <td>0.0</td>\n",
       "      <td>0.0</td>\n",
       "      <td>0.0</td>\n",
       "      <td>1.610736e+09</td>\n",
       "      <td>2021-01-15 20:33:31.707</td>\n",
       "    </tr>\n",
       "    <tr>\n",
       "      <th>3</th>\n",
       "      <td>42.0</td>\n",
       "      <td>43898.175781</td>\n",
       "      <td>-187500.015625</td>\n",
       "      <td>-8967.832031</td>\n",
       "      <td>-187500.015625</td>\n",
       "      <td>-187500.015625</td>\n",
       "      <td>-187500.015625</td>\n",
       "      <td>-187500.015625</td>\n",
       "      <td>-187500.015625</td>\n",
       "      <td>0.000</td>\n",
       "      <td>...</td>\n",
       "      <td>0.0</td>\n",
       "      <td>0.0</td>\n",
       "      <td>0.0</td>\n",
       "      <td>0.0</td>\n",
       "      <td>0.0</td>\n",
       "      <td>0.0</td>\n",
       "      <td>0.0</td>\n",
       "      <td>0.0</td>\n",
       "      <td>1.610736e+09</td>\n",
       "      <td>2021-01-15 20:33:31.707</td>\n",
       "    </tr>\n",
       "    <tr>\n",
       "      <th>4</th>\n",
       "      <td>43.0</td>\n",
       "      <td>-187500.015625</td>\n",
       "      <td>-187500.015625</td>\n",
       "      <td>-187500.015625</td>\n",
       "      <td>-187500.015625</td>\n",
       "      <td>-187500.015625</td>\n",
       "      <td>-187500.015625</td>\n",
       "      <td>-187500.015625</td>\n",
       "      <td>-187500.015625</td>\n",
       "      <td>0.000</td>\n",
       "      <td>...</td>\n",
       "      <td>0.0</td>\n",
       "      <td>0.0</td>\n",
       "      <td>0.0</td>\n",
       "      <td>0.0</td>\n",
       "      <td>0.0</td>\n",
       "      <td>0.0</td>\n",
       "      <td>0.0</td>\n",
       "      <td>0.0</td>\n",
       "      <td>1.610736e+09</td>\n",
       "      <td>2021-01-15 20:33:31.707</td>\n",
       "    </tr>\n",
       "    <tr>\n",
       "      <th>...</th>\n",
       "      <td>...</td>\n",
       "      <td>...</td>\n",
       "      <td>...</td>\n",
       "      <td>...</td>\n",
       "      <td>...</td>\n",
       "      <td>...</td>\n",
       "      <td>...</td>\n",
       "      <td>...</td>\n",
       "      <td>...</td>\n",
       "      <td>...</td>\n",
       "      <td>...</td>\n",
       "      <td>...</td>\n",
       "      <td>...</td>\n",
       "      <td>...</td>\n",
       "      <td>...</td>\n",
       "      <td>...</td>\n",
       "      <td>...</td>\n",
       "      <td>...</td>\n",
       "      <td>...</td>\n",
       "      <td>...</td>\n",
       "      <td>...</td>\n",
       "    </tr>\n",
       "    <tr>\n",
       "      <th>23085</th>\n",
       "      <td>178.0</td>\n",
       "      <td>45358.972656</td>\n",
       "      <td>-187500.015625</td>\n",
       "      <td>-9449.691406</td>\n",
       "      <td>-187500.015625</td>\n",
       "      <td>-187500.015625</td>\n",
       "      <td>-187500.015625</td>\n",
       "      <td>-187500.015625</td>\n",
       "      <td>-187500.015625</td>\n",
       "      <td>-0.030</td>\n",
       "      <td>...</td>\n",
       "      <td>0.0</td>\n",
       "      <td>0.0</td>\n",
       "      <td>0.0</td>\n",
       "      <td>0.0</td>\n",
       "      <td>0.0</td>\n",
       "      <td>0.0</td>\n",
       "      <td>0.0</td>\n",
       "      <td>0.0</td>\n",
       "      <td>1.610736e+09</td>\n",
       "      <td>2021-01-15 20:35:03.419</td>\n",
       "    </tr>\n",
       "    <tr>\n",
       "      <th>23086</th>\n",
       "      <td>179.0</td>\n",
       "      <td>-187500.015625</td>\n",
       "      <td>-187500.015625</td>\n",
       "      <td>-187500.015625</td>\n",
       "      <td>-187500.015625</td>\n",
       "      <td>-187500.015625</td>\n",
       "      <td>-187500.015625</td>\n",
       "      <td>-187500.015625</td>\n",
       "      <td>-187500.015625</td>\n",
       "      <td>-0.030</td>\n",
       "      <td>...</td>\n",
       "      <td>0.0</td>\n",
       "      <td>0.0</td>\n",
       "      <td>0.0</td>\n",
       "      <td>0.0</td>\n",
       "      <td>0.0</td>\n",
       "      <td>0.0</td>\n",
       "      <td>0.0</td>\n",
       "      <td>0.0</td>\n",
       "      <td>1.610736e+09</td>\n",
       "      <td>2021-01-15 20:35:03.419</td>\n",
       "    </tr>\n",
       "    <tr>\n",
       "      <th>23087</th>\n",
       "      <td>180.0</td>\n",
       "      <td>45317.445312</td>\n",
       "      <td>-187500.015625</td>\n",
       "      <td>-9446.137695</td>\n",
       "      <td>-187500.015625</td>\n",
       "      <td>-187500.015625</td>\n",
       "      <td>-187500.015625</td>\n",
       "      <td>-187500.015625</td>\n",
       "      <td>-187500.015625</td>\n",
       "      <td>-0.032</td>\n",
       "      <td>...</td>\n",
       "      <td>0.0</td>\n",
       "      <td>255.0</td>\n",
       "      <td>32.0</td>\n",
       "      <td>30.0</td>\n",
       "      <td>96.0</td>\n",
       "      <td>0.0</td>\n",
       "      <td>0.0</td>\n",
       "      <td>0.0</td>\n",
       "      <td>1.610736e+09</td>\n",
       "      <td>2021-01-15 20:35:03.419</td>\n",
       "    </tr>\n",
       "    <tr>\n",
       "      <th>23088</th>\n",
       "      <td>181.0</td>\n",
       "      <td>-187500.015625</td>\n",
       "      <td>-187500.015625</td>\n",
       "      <td>-187500.015625</td>\n",
       "      <td>-187500.015625</td>\n",
       "      <td>-187500.015625</td>\n",
       "      <td>-187500.015625</td>\n",
       "      <td>-187500.015625</td>\n",
       "      <td>-187500.015625</td>\n",
       "      <td>-0.032</td>\n",
       "      <td>...</td>\n",
       "      <td>0.0</td>\n",
       "      <td>0.0</td>\n",
       "      <td>0.0</td>\n",
       "      <td>0.0</td>\n",
       "      <td>0.0</td>\n",
       "      <td>0.0</td>\n",
       "      <td>0.0</td>\n",
       "      <td>0.0</td>\n",
       "      <td>1.610736e+09</td>\n",
       "      <td>2021-01-15 20:35:03.419</td>\n",
       "    </tr>\n",
       "    <tr>\n",
       "      <th>23089</th>\n",
       "      <td>182.0</td>\n",
       "      <td>45353.027344</td>\n",
       "      <td>-187500.015625</td>\n",
       "      <td>-9441.287109</td>\n",
       "      <td>-187500.015625</td>\n",
       "      <td>-187500.015625</td>\n",
       "      <td>-187500.015625</td>\n",
       "      <td>-187500.015625</td>\n",
       "      <td>-187500.015625</td>\n",
       "      <td>-0.032</td>\n",
       "      <td>...</td>\n",
       "      <td>0.0</td>\n",
       "      <td>0.0</td>\n",
       "      <td>0.0</td>\n",
       "      <td>0.0</td>\n",
       "      <td>0.0</td>\n",
       "      <td>0.0</td>\n",
       "      <td>0.0</td>\n",
       "      <td>0.0</td>\n",
       "      <td>1.610736e+09</td>\n",
       "      <td>2021-01-15 20:35:03.419</td>\n",
       "    </tr>\n",
       "  </tbody>\n",
       "</table>\n",
       "<p>23090 rows × 24 columns</p>\n",
       "</div>"
      ],
      "text/plain": [
       "       Sample Index   EXG Channel 0   EXG Channel 1   EXG Channel 2  \\\n",
       "0              39.0  -187500.015625  -187500.015625  -187500.015625   \n",
       "1              40.0    43866.480469  -187500.015625    -8980.751953   \n",
       "2              41.0  -187500.015625  -187500.015625  -187500.015625   \n",
       "3              42.0    43898.175781  -187500.015625    -8967.832031   \n",
       "4              43.0  -187500.015625  -187500.015625  -187500.015625   \n",
       "...             ...             ...             ...             ...   \n",
       "23085         178.0    45358.972656  -187500.015625    -9449.691406   \n",
       "23086         179.0  -187500.015625  -187500.015625  -187500.015625   \n",
       "23087         180.0    45317.445312  -187500.015625    -9446.137695   \n",
       "23088         181.0  -187500.015625  -187500.015625  -187500.015625   \n",
       "23089         182.0    45353.027344  -187500.015625    -9441.287109   \n",
       "\n",
       "        EXG Channel 3   EXG Channel 4   EXG Channel 5   EXG Channel 6  \\\n",
       "0      -187500.015625  -187500.015625  -187500.015625  -187500.015625   \n",
       "1      -187500.015625  -187500.015625  -187500.015625  -187500.015625   \n",
       "2      -187500.015625  -187500.015625  -187500.015625  -187500.015625   \n",
       "3      -187500.015625  -187500.015625  -187500.015625  -187500.015625   \n",
       "4      -187500.015625  -187500.015625  -187500.015625  -187500.015625   \n",
       "...               ...             ...             ...             ...   \n",
       "23085  -187500.015625  -187500.015625  -187500.015625  -187500.015625   \n",
       "23086  -187500.015625  -187500.015625  -187500.015625  -187500.015625   \n",
       "23087  -187500.015625  -187500.015625  -187500.015625  -187500.015625   \n",
       "23088  -187500.015625  -187500.015625  -187500.015625  -187500.015625   \n",
       "23089  -187500.015625  -187500.015625  -187500.015625  -187500.015625   \n",
       "\n",
       "        EXG Channel 7   Accel Channel 0  ...   Other.2   Other.3   Other.4  \\\n",
       "0      -187500.015625             0.000  ...       0.0       0.0       0.0   \n",
       "1      -187500.015625             0.000  ...       0.0       0.0       0.0   \n",
       "2      -187500.015625             0.000  ...       0.0       0.0       0.0   \n",
       "3      -187500.015625             0.000  ...       0.0       0.0       0.0   \n",
       "4      -187500.015625             0.000  ...       0.0       0.0       0.0   \n",
       "...               ...               ...  ...       ...       ...       ...   \n",
       "23085  -187500.015625            -0.030  ...       0.0       0.0       0.0   \n",
       "23086  -187500.015625            -0.030  ...       0.0       0.0       0.0   \n",
       "23087  -187500.015625            -0.032  ...       0.0     255.0      32.0   \n",
       "23088  -187500.015625            -0.032  ...       0.0       0.0       0.0   \n",
       "23089  -187500.015625            -0.032  ...       0.0       0.0       0.0   \n",
       "\n",
       "        Other.5   Other.6   Analog Channel 0   Analog Channel 1  \\\n",
       "0           0.0       0.0                0.0                0.0   \n",
       "1           0.0       0.0                0.0                0.0   \n",
       "2           0.0       0.0                0.0                0.0   \n",
       "3           0.0       0.0                0.0                0.0   \n",
       "4           0.0       0.0                0.0                0.0   \n",
       "...         ...       ...                ...                ...   \n",
       "23085       0.0       0.0                0.0                0.0   \n",
       "23086       0.0       0.0                0.0                0.0   \n",
       "23087      30.0      96.0                0.0                0.0   \n",
       "23088       0.0       0.0                0.0                0.0   \n",
       "23089       0.0       0.0                0.0                0.0   \n",
       "\n",
       "        Analog Channel 2     Timestamp     Timestamp (Formatted)  \n",
       "0                    0.0  1.610736e+09   2021-01-15 20:33:31.707  \n",
       "1                    0.0  1.610736e+09   2021-01-15 20:33:31.707  \n",
       "2                    0.0  1.610736e+09   2021-01-15 20:33:31.707  \n",
       "3                    0.0  1.610736e+09   2021-01-15 20:33:31.707  \n",
       "4                    0.0  1.610736e+09   2021-01-15 20:33:31.707  \n",
       "...                  ...           ...                       ...  \n",
       "23085                0.0  1.610736e+09   2021-01-15 20:35:03.419  \n",
       "23086                0.0  1.610736e+09   2021-01-15 20:35:03.419  \n",
       "23087                0.0  1.610736e+09   2021-01-15 20:35:03.419  \n",
       "23088                0.0  1.610736e+09   2021-01-15 20:35:03.419  \n",
       "23089                0.0  1.610736e+09   2021-01-15 20:35:03.419  \n",
       "\n",
       "[23090 rows x 24 columns]"
      ]
     },
     "execution_count": 16,
     "metadata": {},
     "output_type": "execute_result"
    }
   ],
   "source": [
    "import pandas as pd\n",
    "\n",
    "sample = pd.read_csv('recordings/raw/aun_start16s.txt', sep=\",\", skiprows=4)\n",
    "sample"
   ]
  },
  {
   "cell_type": "code",
   "execution_count": 21,
   "metadata": {},
   "outputs": [
    {
     "data": {
      "text/plain": [
       "8.58306884765625e-06"
      ]
     },
     "execution_count": 21,
     "metadata": {},
     "output_type": "execute_result"
    }
   ],
   "source": [
    "sample.loc[1][' Timestamp'] - sample.loc[0][' Timestamp']"
   ]
  },
  {
   "cell_type": "code",
   "execution_count": 22,
   "metadata": {},
   "outputs": [
    {
     "data": {
      "text/plain": [
       "8.106231689453125e-06"
      ]
     },
     "execution_count": 22,
     "metadata": {},
     "output_type": "execute_result"
    }
   ],
   "source": [
    "sample.loc[2][' Timestamp'] - sample.loc[1][' Timestamp']"
   ]
  },
  {
   "cell_type": "code",
   "execution_count": 23,
   "metadata": {},
   "outputs": [
    {
     "data": {
      "text/plain": [
       "0.00397210575708289"
      ]
     },
     "execution_count": 23,
     "metadata": {},
     "output_type": "execute_result"
    }
   ],
   "source": [
    "diff_ls = []\n",
    "for i in range(len(sample) - 1):\n",
    "    diff_ls.append(sample.loc[i+1][' Timestamp'] - sample.loc[i][' Timestamp'])\n",
    "\n",
    "np.mean(diff_ls)    "
   ]
  },
  {
   "cell_type": "code",
   "execution_count": 25,
   "metadata": {},
   "outputs": [
    {
     "data": {
      "text/plain": [
       "{'whiskers': [<matplotlib.lines.Line2D at 0x7fc7186320f0>,\n",
       "  <matplotlib.lines.Line2D at 0x7fc718632390>],\n",
       " 'caps': [<matplotlib.lines.Line2D at 0x7fc718632668>,\n",
       "  <matplotlib.lines.Line2D at 0x7fc718632940>],\n",
       " 'boxes': [<matplotlib.lines.Line2D at 0x7fc718632048>],\n",
       " 'medians': [<matplotlib.lines.Line2D at 0x7fc718632c18>],\n",
       " 'fliers': [<matplotlib.lines.Line2D at 0x7fc718632ef0>],\n",
       " 'means': []}"
      ]
     },
     "execution_count": 25,
     "metadata": {},
     "output_type": "execute_result"
    },
    {
     "data": {
      "image/png": "[encoded data removed]",
      "text/plain": [
       "<Figure size 720x864 with 1 Axes>"
      ]
     },
     "metadata": {
      "needs_background": "light"
     },
     "output_type": "display_data"
    }
   ],
   "source": [
    "import matplotlib.pyplot as plt\n",
    "\n",
    "\n",
    "fig, axs = plt.subplots(1, figsize=(10,12))\n",
    "axs.boxplot(diff_ls)"
   ]
  },
  {
   "cell_type": "code",
   "execution_count": 47,
   "metadata": {},
   "outputs": [
    {
     "name": "stdout",
     "output_type": "stream",
     "text": [
      "<generator object clean_method at 0x7fc718bb0318>\n"
     ]
    }
   ],
   "source": [
    "items = [\"apple\", \"banana\", \"oranges\"]\n",
    "\n",
    "def clean_method():\n",
    "    for item in items:\n",
    "        if len(item) == 6:\n",
    "            yield item\n",
    "\n",
    "ans = clean_method()\n",
    "print(ans)\n",
    "# for item in ans:\n",
    "#     print(item)"
   ]
  },
  {
   "cell_type": "code",
   "execution_count": 63,
   "metadata": {},
   "outputs": [
    {
     "name": "stdout",
     "output_type": "stream",
     "text": [
      "0, 1\n",
      "1, 1\n",
      "2, 4\n",
      "3, 27\n",
      "4, 256\n"
     ]
    }
   ],
   "source": [
    "a = [i**i for i in range(5)]\n",
    "for i, v in enumerate(a):\n",
    "    print(\"{}, {}\".format(i,v))"
   ]
  },
  {
   "cell_type": "code",
   "execution_count": null,
   "metadata": {},
   "outputs": [],
   "source": [
    "# Verify code quality\n",
    "# PEP8, *Flake8*, PyFlakes, Pylint"
   ]
  },
  {
   "cell_type": "code",
   "execution_count": 69,
   "metadata": {},
   "outputs": [
    {
     "name": "stdout",
     "output_type": "stream",
     "text": [
      "0\n",
      "5\n",
      "10\n"
     ]
    }
   ],
   "source": [
    "import functools as boner\n",
    "\n",
    "tests = [boner.partial(lambda i, a: i*a, i) for i in range(3)]\n",
    "for test in tests:\n",
    "    print(test(5))"
   ]
  },
  {
   "cell_type": "code",
   "execution_count": 117,
   "metadata": {},
   "outputs": [
    {
     "data": {
      "text/plain": [
       "1"
      ]
     },
     "execution_count": 117,
     "metadata": {},
     "output_type": "execute_result"
    }
   ],
   "source": [
    "a = list(range(3))\n",
    "a.remove(0)\n",
    "a.insert(0,70)\n",
    "a = list(set(a))\n",
    "i, j, k = a\n",
    "i"
   ]
  },
  {
   "cell_type": "code",
   "execution_count": 110,
   "metadata": {},
   "outputs": [
    {
     "data": {
      "text/plain": [
       "False"
      ]
     },
     "execution_count": 110,
     "metadata": {},
     "output_type": "execute_result"
    }
   ],
   "source": [
    "set('spam') > set('eggs')"
   ]
  },
  {
   "cell_type": "code",
   "execution_count": 111,
   "metadata": {},
   "outputs": [
    {
     "data": {
      "text/plain": [
       "{'adidas', 'berkins', 'nike', 'prada'}"
      ]
     },
     "execution_count": 111,
     "metadata": {},
     "output_type": "execute_result"
    }
   ],
   "source": [
    "set(['toms', 'berkins', 'prada']) ^ set(['toms', 'nike', 'adidas'])"
   ]
  },
  {
   "cell_type": "code",
   "execution_count": 144,
   "metadata": {},
   "outputs": [
    {
     "name": "stdout",
     "output_type": "stream",
     "text": [
      "{'age': 27, 'name': 'Hudson', 'riigi': 'kamerun'}\n"
     ]
    }
   ],
   "source": [
    "import pprint\n",
    "\n",
    "def hihi(**kwargs):\n",
    "    pprint.pprint(kwargs)\n",
    "\n",
    "hihi(name='Hudson', age=27, riigi='kamerun')"
   ]
  },
  {
   "cell_type": "code",
   "execution_count": 143,
   "metadata": {},
   "outputs": [
    {
     "data": {
      "text/plain": [
       "deque([1])"
      ]
     },
     "execution_count": 143,
     "metadata": {},
     "output_type": "execute_result"
    }
   ],
   "source": [
    "import collections\n",
    "\n",
    "queue = collections.deque()\n",
    "queue.append(1)\n",
    "queue.append(2)\n"
   ]
  },
  {
   "cell_type": "code",
   "execution_count": 146,
   "metadata": {},
   "outputs": [],
   "source": [
    "# pprint.pprint(sample)"
   ]
  },
  {
   "cell_type": "code",
   "execution_count": 152,
   "metadata": {},
   "outputs": [
    {
     "name": "stdout",
     "output_type": "stream",
     "text": [
      "{\n",
      "    \"Us\": {\n",
      "        \"Producer\": \"James\"\n",
      "    }\n",
      "}\n"
     ]
    }
   ],
   "source": [
    "import json\n",
    "\n",
    "def tree(): return collections.defaultdict(tree)\n",
    "a = collections.defaultdict(tree)\n",
    "a['Us']['Producer'] = 'James'\n",
    "\n",
    "print(json.dumps(a, indent=4))"
   ]
  },
  {
   "cell_type": "code",
   "execution_count": 156,
   "metadata": {},
   "outputs": [
    {
     "name": "stdout",
     "output_type": "stream",
     "text": [
      "{'mazi': '', 'mozo': ''}\n"
     ]
    }
   ],
   "source": [
    "import re\n",
    "\n",
    "class Mazo:\n",
    "    def __init__(self):\n",
    "        self.x = 0\n",
    "    def mazi(self):\n",
    "        return 4\n",
    "    def mozo(self):\n",
    "        return 0\n",
    "    def eze(self):\n",
    "        methods = [method for method in dir(self) if callable(getattr(self, method))]\n",
    "        methods.remove('eze')\n",
    "        method_dict = {}\n",
    "        for method in methods:\n",
    "            if not re.match('__', method) and not re.match('_validation__', method):\n",
    "                method_dict[method] = ''\n",
    "        return method_dict\n",
    "\n",
    "a = Mazo()\n",
    "pprint.pprint(a.eze())"
   ]
  },
  {
   "cell_type": "code",
   "execution_count": null,
   "metadata": {},
   "outputs": [],
   "source": []
  }
 ],
 "metadata": {
  "kernelspec": {
   "display_name": "Python 3",
   "language": "python",
   "name": "python3"
  },
  "language_info": {
   "codemirror_mode": {
    "name": "ipython",
    "version": 3
   },
   "file_extension": ".py",
   "mimetype": "text/x-python",
   "name": "python",
   "nbconvert_exporter": "python",
   "pygments_lexer": "ipython3",
   "version": "3.7.3"
  }
 },
 "nbformat": 4,
 "nbformat_minor": 2
}
